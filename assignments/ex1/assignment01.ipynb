{
 "cells": [
  {
   "cell_type": "markdown",
   "metadata": {},
   "source": [
    "## Arch 577c / Des450i Assignment 01 - A Trio of Functions!\n",
    "\n",
    "**Due:** Friday, June 7, 8PM\n",
    "\n",
    "**Submit:** Via Canvas Submission Page\n",
    "\n",
    "**Submission Format:** 1 .py file named with the following format `lastname_firstname.py` A template is provided in this folder.\n",
    "\n",
    "*Note: It is extremely important that you follow the above naming convention.*\n",
    "\n",
    "---"
   ]
  },
  {
   "cell_type": "markdown",
   "metadata": {},
   "source": [
    "**Assignment General Description**\n",
    "\n",
    "You are being tasked with writing three functions. All three function will have strict parameter requirements, return requirements, and naming requirements as described below. For each function, a live, working example, is provided so that you may check your results against working code. *Ensure that you copy the expected messages exactly - we are automating the grading so it's best to just copy paste from this assignment brief.*\n",
    "\n",
    "**Assignment Submission Format Expained**\n",
    "\n",
    "You will probably work on your functions in a `.ipynb` file. This is encouraged!\n",
    "\n",
    "However, once you are confident you are done your work on a function, copy *only the function code* to a `.py` file named `lastname_firstname.py` where `lastname` is your last name, and `firstname` is your first name. Do this for all three functions. The order that you copy your functions into the `.py` file does not matter.\n",
    "\n",
    "Ensure that your functions are named exactly the same as the provided functions. A template has been provided with the functions and their proper parameters already defined.\n",
    "\n",
    "**Assignment Grading**\n",
    "\n",
    "Each function will be tested against 10 multiple argument combinations, with each succesful pass worth 3% of the final assignment grade. The remaining 10% will be given for clarity of code, comments, and doc strings.\n",
    "\n",
    "You can assume that if a parameter calls for a `str` type argument, for instance, we will only test the required type, `str`. Check the provided functions' docstrings for the required types. If you're unsure what a function should output given certain inputs, test the provided functions.\n",
    "\n",
    "---"
   ]
  },
  {
   "cell_type": "code",
   "execution_count": 1,
   "metadata": {},
   "outputs": [],
   "source": [
    "# if you want to test against my functions in another notebook, just copy this line - must be in same folder\n",
    "from ex1 import rock_paper_scissors, custom_greeting, order_produce_prices"
   ]
  },
  {
   "cell_type": "markdown",
   "metadata": {},
   "source": [
    "### Function 1: custom_greeting\n",
    "\n",
    "Write a function that returns a greeting for 0, 1, or 2 or more people.\n",
    "\n",
    "**It should have two arguments:**\n",
    "* `greeting` (str): The greeting you would like to say\n",
    "* `*names` (str): The zero or more names you'd like to greet\n",
    "\n",
    "**It should return:**\n",
    "\n",
    "* On being provided no names: \"`greeting` to no one in particular!\" \n",
    "    * eg. \"hello to no one in particular!\"\n",
    "* On being provided one name: \"`greeting` `name`!\"\n",
    "    * eg. \"hello Frank!\"\n",
    "* On being provided multiple names: \"`greeting` `name1`, `name2`, ... , and `namex`!\"\n",
    "    * eg. \"hello Frank, Suzy, Jim, Jessica, and Paula!\""
   ]
  },
  {
   "cell_type": "code",
   "execution_count": 2,
   "metadata": {},
   "outputs": [
    {
     "data": {
      "text/plain": [
       "'hello to no one in particular!'"
      ]
     },
     "execution_count": 2,
     "metadata": {},
     "output_type": "execute_result"
    }
   ],
   "source": [
    "custom_greeting(\"hello\")"
   ]
  },
  {
   "cell_type": "code",
   "execution_count": 3,
   "metadata": {},
   "outputs": [
    {
     "data": {
      "text/plain": [
       "'goodbye Arnold!'"
      ]
     },
     "execution_count": 3,
     "metadata": {},
     "output_type": "execute_result"
    }
   ],
   "source": [
    "custom_greeting(\"goodbye\", \"Arnold\")"
   ]
  },
  {
   "cell_type": "code",
   "execution_count": 4,
   "metadata": {},
   "outputs": [
    {
     "data": {
      "text/plain": [
       "'Toodle-loo Tim, Tina, Terry, and Tanya!'"
      ]
     },
     "execution_count": 4,
     "metadata": {},
     "output_type": "execute_result"
    }
   ],
   "source": [
    "custom_greeting(\"Toodle-loo\", \"Tim\", \"Tina\", \"Terry\", \"Tanya\")"
   ]
  },
  {
   "cell_type": "code",
   "execution_count": 5,
   "metadata": {},
   "outputs": [
    {
     "name": "stdout",
     "output_type": "stream",
     "text": [
      "Bonjour Jaques!\n"
     ]
    }
   ],
   "source": [
    "stored_greeting = custom_greeting(\"Bonjour\", \"Jaques\")\n",
    "\n",
    "print(stored_greeting)"
   ]
  },
  {
   "cell_type": "markdown",
   "metadata": {},
   "source": [
    "### Function 2: order_produce_prices\n",
    "\n",
    "Write a function that takes 3 corresponding lists - produce description (eg. apple), price per unit (eg. price per apple = 0.75), and quantity (eg. I need 5 apples) - and formats them into corresponding string line items, formatted as below.\n",
    "\n",
    "**It should have three arguments:**\n",
    "\n",
    "* `produce` (list[str]): A list of produce items (strings like \"apple\")\n",
    "* `indiv_price`(list[float]): A corresponding list of floats (like 2.10) representing prices per produce item\n",
    "*  `qty` (list[int]): A corresponding list of integers representing the number of produce item purchases (as in I bought 5 apples)\n",
    "\n",
    "**It should return:**\n",
    "\n",
    "* On equal length lists, with proper object types:\n",
    "\n",
    "    list[str]: A list of strings in the format: \"`produce` / qty = `qty` / total price = $#.##\"\n",
    "\n",
    "    *Note that total price's number must be rounded to 2 decimal digits, and always display 2 digits.*\n",
    "\n",
    "* On lists of unequal lengths:\n",
    "\n",
    "    str: \"NEED EQUAL SIZED LISTS!\"\n",
    "\n",
    "* On empty lists being passed to all three parameters:\n",
    "\n",
    "    str: \"CAN'T HAVE EMPTY LISTS!\""
   ]
  },
  {
   "cell_type": "code",
   "execution_count": 6,
   "metadata": {},
   "outputs": [
    {
     "data": {
      "text/plain": [
       "['apple / qty = 12 / total price = $14.88',\n",
       " 'pear / qty = 3 / total price = $11.31',\n",
       " 'lettuce / qty = 2 / total price = $0.90',\n",
       " 'pineapple / qty = 1 / total price = $7.11']"
      ]
     },
     "execution_count": 6,
     "metadata": {},
     "output_type": "execute_result"
    }
   ],
   "source": [
    "produce_list = [\"apple\", \"pear\", \"lettuce\", \"pineapple\"]\n",
    "produce_price = [1.24, 3.77, 0.45, 7.11]\n",
    "produce_qty = [12, 3, 2, 1]\n",
    "\n",
    "order_produce_prices(produce_list, produce_price, produce_qty)"
   ]
  },
  {
   "cell_type": "code",
   "execution_count": 7,
   "metadata": {},
   "outputs": [
    {
     "data": {
      "text/plain": [
       "'NEED EQUAL SIZED LISTS!'"
      ]
     },
     "execution_count": 7,
     "metadata": {},
     "output_type": "execute_result"
    }
   ],
   "source": [
    "produce_list = [\"apple\", \"pear\", \"lettuce\"]\n",
    "produce_price = [1.24, 3.77, 0.45, 7.11]\n",
    "produce_qty = [12]\n",
    "\n",
    "order_produce_prices(produce_list, produce_price, produce_qty)"
   ]
  },
  {
   "cell_type": "code",
   "execution_count": 8,
   "metadata": {},
   "outputs": [
    {
     "data": {
      "text/plain": [
       "\"CAN'T HAVE EMPTY LISTS!\""
      ]
     },
     "execution_count": 8,
     "metadata": {},
     "output_type": "execute_result"
    }
   ],
   "source": [
    "produce_list = []\n",
    "produce_price = []\n",
    "produce_qty = []\n",
    "\n",
    "order_produce_prices(produce_list, produce_price, produce_qty)"
   ]
  },
  {
   "cell_type": "code",
   "execution_count": 9,
   "metadata": {},
   "outputs": [
    {
     "name": "stdout",
     "output_type": "stream",
     "text": [
      "<class 'list'>\n",
      "<class 'str'> apple / qty = 12 / total price = $14.88\n",
      "<class 'str'> pear / qty = 3 / total price = $11.31\n",
      "<class 'str'> lettuce / qty = 2 / total price = $0.90\n",
      "<class 'str'> pineapple / qty = 1 / total price = $7.11\n"
     ]
    }
   ],
   "source": [
    "produce_list = [\"apple\", \"pear\", \"lettuce\", \"pineapple\"]\n",
    "produce_price = [1.24, 3.77, 0.45, 7.11]\n",
    "produce_qty = [12, 3, 2, 1]\n",
    "\n",
    "grocery_order = order_produce_prices(produce_list, produce_price, produce_qty)\n",
    "\n",
    "print(type(grocery_order))\n",
    "for line in grocery_order:\n",
    "    print(type(line), line)"
   ]
  },
  {
   "cell_type": "markdown",
   "metadata": {},
   "source": [
    "### Function 3: rock_paper_scissors\n",
    "\n",
    "Write a function that plays one round of rock paper scissors with the computer.\n",
    "\n",
    "**It should have no arguments and no returned object**\n",
    "\n",
    "Instead, the game play should go as follows:\n",
    "\n",
    "1. Prompt the user with `Type \"rock\", \"paper\", or \"scissors\"!`\n",
    "2. Print `I chose <computer choice here>.` The computer's choice should be randomized.\n",
    "3. If the player's choice beats the computer, print `<player choice here> beats <computer choice here>! You win!`\n",
    "4. If the computer's choic beats the player's, print `<computer choice here> beats <player choice here>. I win!`\n",
    "5. If the computer and player choose the same, print `We both chose <the choice>. It's a tie!`\n",
    "6. If the player inputs something outside of `rock`, `paper`, or `scissors`, print `You did not choose \"rock\", \"paper\", or \"scissors\"!`"
   ]
  },
  {
   "cell_type": "code",
   "execution_count": 10,
   "metadata": {},
   "outputs": [
    {
     "name": "stdout",
     "output_type": "stream",
     "text": [
      "I chose scissors.\n",
      "rock beats scissors! You win!\n"
     ]
    }
   ],
   "source": [
    "# chose rock\n",
    "rock_paper_scissors()"
   ]
  },
  {
   "cell_type": "code",
   "execution_count": 16,
   "metadata": {},
   "outputs": [
    {
     "name": "stdout",
     "output_type": "stream",
     "text": [
      "I chose scissors.\n",
      "scissors beats paper. I win!\n"
     ]
    }
   ],
   "source": [
    "# chose paper\n",
    "rock_paper_scissors()"
   ]
  },
  {
   "cell_type": "code",
   "execution_count": 12,
   "metadata": {},
   "outputs": [
    {
     "name": "stdout",
     "output_type": "stream",
     "text": [
      "I chose scissors.\n",
      "We both chose scissors. It's a tie!\n"
     ]
    }
   ],
   "source": [
    "# chose scissors\n",
    "rock_paper_scissors()"
   ]
  },
  {
   "cell_type": "code",
   "execution_count": 13,
   "metadata": {},
   "outputs": [
    {
     "name": "stdout",
     "output_type": "stream",
     "text": [
      "You did not choose \"rock\", \"paper\", or \"scissors\"!\n"
     ]
    }
   ],
   "source": [
    "# chose cardboard\n",
    "rock_paper_scissors()"
   ]
  }
 ],
 "metadata": {
  "kernelspec": {
   "display_name": "Python 3",
   "language": "python",
   "name": "python3"
  },
  "language_info": {
   "codemirror_mode": {
    "name": "ipython",
    "version": 3
   },
   "file_extension": ".py",
   "mimetype": "text/x-python",
   "name": "python",
   "nbconvert_exporter": "python",
   "pygments_lexer": "ipython3",
   "version": "3.12.3"
  }
 },
 "nbformat": 4,
 "nbformat_minor": 2
}
